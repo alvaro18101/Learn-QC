{
 "cells": [
  {
   "cell_type": "markdown",
   "id": "a6947359-3cc4-44a9-8603-dee75195a2ae",
   "metadata": {},
   "source": [
    "# Algoritmos cuánticos"
   ]
  },
  {
   "cell_type": "code",
   "execution_count": null,
   "id": "6e537c60-dc8a-43c8-baa1-b562a4d74cbb",
   "metadata": {},
   "outputs": [],
   "source": []
  }
 ],
 "metadata": {
  "kernelspec": {
   "display_name": "Python 3 (ipykernel)",
   "language": "python",
   "name": "python3"
  },
  "language_info": {
   "codemirror_mode": {
    "name": "ipython",
    "version": 3
   },
   "file_extension": ".py",
   "mimetype": "text/x-python",
   "name": "python",
   "nbconvert_exporter": "python",
   "pygments_lexer": "ipython3",
   "version": "3.11.5"
  }
 },
 "nbformat": 4,
 "nbformat_minor": 5
}
