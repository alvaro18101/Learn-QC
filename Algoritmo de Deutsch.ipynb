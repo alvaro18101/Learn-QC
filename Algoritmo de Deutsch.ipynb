{
 "cells": [
  {
   "cell_type": "markdown",
   "id": "a6947359-3cc4-44a9-8603-dee75195a2ae",
   "metadata": {},
   "source": [
    "# Algoritmos cuánticos\n",
    "Un algoritmo cuántico es un algoritmo que se ejecuta en un modelo realista de computación cuántica, como el modelo de circuito cuántico."
   ]
  },
  {
   "cell_type": "markdown",
   "id": "bf703095-845c-4210-bfb3-9133f7ed7599",
   "metadata": {},
   "source": [
    "# Algoritmo de Deutsch\n",
    "El algoritmo permite determinar si una función es **constante** o **balanceada**\n",
    "- Una función constante es la que $f(0) = f(1)$\n",
    "- Una función balanceada es la que $f(0) \\neq f(1)$\n",
    "\n",
    "Esto lo hace con una sola consulta, frente a su homólogo clásico que necesita dos consultas."
   ]
  },
  {
   "cell_type": "code",
   "execution_count": 1,
   "id": "6e537c60-dc8a-43c8-baa1-b562a4d74cbb",
   "metadata": {},
   "outputs": [
    {
     "data": {
      "image/png": "[encoded data removed]",
      "text/plain": [
       "<Figure size 287.294x200.667 with 1 Axes>"
      ]
     },
     "execution_count": 1,
     "metadata": {},
     "output_type": "execute_result"
    }
   ],
   "source": [
    "from qiskit import QuantumCircuit\n",
    "circuito = QuantumCircuit(2)\n",
    "circuito.x(1)\n",
    "circuito.h(0)\n",
    "circuito.h(1)\n",
    "circuito.draw('mpl')"
   ]
  },
  {
   "cell_type": "code",
   "execution_count": null,
   "id": "aef6ff85-3052-4d9a-aa11-b034f4d52c7b",
   "metadata": {},
   "outputs": [],
   "source": []
  },
  {
   "cell_type": "code",
   "execution_count": null,
   "id": "7bc5162a-02e3-41bc-ad3a-d141e563e756",
   "metadata": {},
   "outputs": [],
   "source": []
  }
 ],
 "metadata": {
  "kernelspec": {
   "display_name": "Python 3 (ipykernel)",
   "language": "python",
   "name": "python3"
  },
  "language_info": {
   "codemirror_mode": {
    "name": "ipython",
    "version": 3
   },
   "file_extension": ".py",
   "mimetype": "text/x-python",
   "name": "python",
   "nbconvert_exporter": "python",
   "pygments_lexer": "ipython3",
   "version": "3.11.5"
  }
 },
 "nbformat": 4,
 "nbformat_minor": 5
}
