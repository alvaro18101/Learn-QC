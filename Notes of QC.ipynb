{
 "cells": [
  {
   "cell_type": "markdown",
   "id": "32862614-e5b0-44ae-ab08-aa691804e86d",
   "metadata": {},
   "source": [
    "# Qubit\n",
    "Estado en superposición, en contraste con el bit clásico.\n",
    "\n",
    "Para emplear la comutación cuántica se usa qiskit en Python."
   ]
  },
  {
   "cell_type": "code",
   "execution_count": 27,
   "id": "7c78b89a-71bd-437d-aedd-2869ffffd582",
   "metadata": {},
   "outputs": [],
   "source": [
    "from qiskit.visualization import array_to_latex\n",
    "from qiskit.quantum_info import Statevector\n",
    "import numpy as np"
   ]
  },
  {
   "cell_type": "markdown",
   "id": "66060d02-5b02-4f68-90ab-dca1949b1b5a",
   "metadata": {},
   "source": [
    "## Ket"
   ]
  },
  {
   "cell_type": "markdown",
   "id": "c211ebd2-b3d4-4e79-a8a9-9aaf702dc182",
   "metadata": {},
   "source": [
    "Vectores columna:"
   ]
  },
  {
   "cell_type": "code",
   "execution_count": 28,
   "id": "f3ed3a83-31d3-4e47-bf62-87cc1392ca1b",
   "metadata": {},
   "outputs": [
    {
     "data": {
      "text/latex": [
       "$$\n",
       "\n",
       "\\begin{bmatrix}\n",
       "1  \\\\\n",
       " 0  \\\\\n",
       " \\end{bmatrix}\n",
       "$$"
      ],
      "text/plain": [
       "<IPython.core.display.Latex object>"
      ]
     },
     "execution_count": 28,
     "metadata": {},
     "output_type": "execute_result"
    }
   ],
   "source": [
    "ket0 = [[1],[0]]\n",
    "array_to_latex(ket0)"
   ]
  },
  {
   "cell_type": "code",
   "execution_count": 29,
   "id": "9ee17601-347a-459b-adba-80b1dd7db2ce",
   "metadata": {},
   "outputs": [
    {
     "data": {
      "text/latex": [
       "$$\n",
       "\n",
       "\\begin{bmatrix}\n",
       "0  \\\\\n",
       " 1  \\\\\n",
       " \\end{bmatrix}\n",
       "$$"
      ],
      "text/plain": [
       "<IPython.core.display.Latex object>"
      ]
     },
     "execution_count": 29,
     "metadata": {},
     "output_type": "execute_result"
    }
   ],
   "source": [
    "ket1 = [[0],[1]]\n",
    "array_to_latex(ket1)"
   ]
  },
  {
   "cell_type": "markdown",
   "id": "e35ab49e-81ed-4424-a9c7-6c803e43b720",
   "metadata": {},
   "source": [
    "Se usa array_to_latex() SOLO para escribir y visualizar los qubits."
   ]
  },
  {
   "cell_type": "code",
   "execution_count": 30,
   "id": "f95b0122-b661-404b-8c12-d878916033fe",
   "metadata": {},
   "outputs": [
    {
     "data": {
      "text/latex": [
       "$$\n",
       "\n",
       "\\begin{bmatrix}\n",
       "\\frac{\\sqrt{2}}{2}  \\\\\n",
       " \\frac{\\sqrt{2}}{2}  \\\\\n",
       " \\end{bmatrix}\n",
       "$$"
      ],
      "text/plain": [
       "<IPython.core.display.Latex object>"
      ]
     },
     "execution_count": 30,
     "metadata": {},
     "output_type": "execute_result"
    }
   ],
   "source": [
    "ket_plus  = [[1/np.sqrt(2)],[1/np.sqrt(2)]]\n",
    "array_to_latex(ket_plus)"
   ]
  },
  {
   "cell_type": "markdown",
   "id": "0db19920-f76e-483c-bc50-552f2077a307",
   "metadata": {},
   "source": [
    "Se usa Statevector para convertirlo en un objeto que se puede manipular en Python:"
   ]
  },
  {
   "cell_type": "code",
   "execution_count": 31,
   "id": "a5465f2e-92a9-4c6d-9560-ef3f71e6ea63",
   "metadata": {},
   "outputs": [
    {
     "name": "stdout",
     "output_type": "stream",
     "text": [
      "Statevector([1.+0.j, 0.+0.j],\n",
      "            dims=(2,))\n"
     ]
    }
   ],
   "source": [
    "ket_0 = Statevector(ket0)\n",
    "ket_0"
   ]
  },
  {
   "cell_type": "code",
   "execution_count": 32,
   "id": "f62ad640-0d9e-45ad-a38f-c51bb8b20787",
   "metadata": {},
   "outputs": [
    {
     "data": {
      "text/latex": [
       "$$ |0\\rangle$$"
      ],
      "text/plain": [
       "<IPython.core.display.Latex object>"
      ]
     },
     "execution_count": 32,
     "metadata": {},
     "output_type": "execute_result"
    }
   ],
   "source": [
    "ket_0.draw('latex')"
   ]
  },
  {
   "cell_type": "code",
   "execution_count": 33,
   "id": "321bd754-8c95-4556-99d9-a71f940b2fc6",
   "metadata": {},
   "outputs": [
    {
     "data": {
      "text/latex": [
       "$$ |1\\rangle$$"
      ],
      "text/plain": [
       "<IPython.core.display.Latex object>"
      ]
     },
     "execution_count": 33,
     "metadata": {},
     "output_type": "execute_result"
    }
   ],
   "source": [
    "ket_1 = Statevector(ket1)\n",
    "ket_1.draw('latex')"
   ]
  },
  {
   "cell_type": "code",
   "execution_count": 34,
   "id": "05cc9c00-14e7-4397-a835-680d17a9ac63",
   "metadata": {},
   "outputs": [
    {
     "data": {
      "text/latex": [
       "$$\\frac{\\sqrt{2}}{2} |0\\rangle+\\frac{\\sqrt{2}}{2} |1\\rangle$$"
      ],
      "text/plain": [
       "<IPython.core.display.Latex object>"
      ]
     },
     "execution_count": 34,
     "metadata": {},
     "output_type": "execute_result"
    }
   ],
   "source": [
    "ket_plus = Statevector(ket_plus)\n",
    "ket_plus.draw('latex')"
   ]
  },
  {
   "cell_type": "markdown",
   "id": "9d7a4575-86e0-49e4-b15a-235beb8eff8e",
   "metadata": {},
   "source": [
    "Se puede verificar la normalziación de un vector con el método is_valid()"
   ]
  },
  {
   "cell_type": "code",
   "execution_count": 35,
   "id": "113e33f8-a23d-4ae7-b943-a2247ab82086",
   "metadata": {},
   "outputs": [
    {
     "data": {
      "text/plain": [
       "True"
      ]
     },
     "execution_count": 35,
     "metadata": {},
     "output_type": "execute_result"
    }
   ],
   "source": [
    "ket_plus.is_valid()"
   ]
  },
  {
   "cell_type": "markdown",
   "id": "d5832d87-af79-4d71-abaa-89f62deb5c7a",
   "metadata": {},
   "source": [
    "Se puede ver la probabilidad de cada base con probabilities()"
   ]
  },
  {
   "cell_type": "code",
   "execution_count": 36,
   "id": "f9e19821-1894-41e6-89a9-dd5a6a3a087f",
   "metadata": {},
   "outputs": [
    {
     "name": "stdout",
     "output_type": "stream",
     "text": [
      "[1. 0.]\n"
     ]
    }
   ],
   "source": [
    "print(ket_0.probabilities())"
   ]
  },
  {
   "cell_type": "code",
   "execution_count": 37,
   "id": "657b2d5f-4910-421b-bbdb-b8f18bd5b98c",
   "metadata": {},
   "outputs": [
    {
     "name": "stdout",
     "output_type": "stream",
     "text": [
      "[0.5 0.5]\n"
     ]
    }
   ],
   "source": [
    "print(ket_plus.probabilities())"
   ]
  },
  {
   "cell_type": "markdown",
   "id": "117af7d0-9bf7-4654-bac7-298edb712069",
   "metadata": {},
   "source": [
    "Para emplear bases conocidas, usamos Statevector.from_label()"
   ]
  },
  {
   "cell_type": "code",
   "execution_count": 38,
   "id": "9ca115ec-cb5d-48d5-94ff-f7d3b1428f5f",
   "metadata": {},
   "outputs": [
    {
     "data": {
      "text/latex": [
       "$$\\frac{\\sqrt{2}}{2} |0\\rangle+\\frac{\\sqrt{2}}{2} |1\\rangle$$"
      ],
      "text/plain": [
       "<IPython.core.display.Latex object>"
      ]
     },
     "execution_count": 38,
     "metadata": {},
     "output_type": "execute_result"
    }
   ],
   "source": [
    "ket_plus = Statevector.from_label('+')\n",
    "ket_plus.draw('latex')"
   ]
  },
  {
   "cell_type": "code",
   "execution_count": 39,
   "id": "717bc495-e37e-41c7-9dce-9115a7e832ba",
   "metadata": {},
   "outputs": [
    {
     "data": {
      "text/latex": [
       "$$\\frac{\\sqrt{2}}{2} |0\\rangle- \\frac{\\sqrt{2}}{2} |1\\rangle$$"
      ],
      "text/plain": [
       "<IPython.core.display.Latex object>"
      ]
     },
     "execution_count": 39,
     "metadata": {},
     "output_type": "execute_result"
    }
   ],
   "source": [
    "ket_minus = Statevector.from_label('-')\n",
    "ket_minus.draw('latex')"
   ]
  },
  {
   "cell_type": "code",
   "execution_count": 40,
   "id": "37d6309d-7436-4889-9b14-53f704016297",
   "metadata": {},
   "outputs": [
    {
     "data": {
      "text/latex": [
       "$$\\frac{\\sqrt{2}}{2} |0\\rangle+\\frac{\\sqrt{2} i}{2} |1\\rangle$$"
      ],
      "text/plain": [
       "<IPython.core.display.Latex object>"
      ]
     },
     "execution_count": 40,
     "metadata": {},
     "output_type": "execute_result"
    }
   ],
   "source": [
    "ket_r = Statevector.from_label('r')\n",
    "ket_r.draw('latex')"
   ]
  },
  {
   "cell_type": "markdown",
   "id": "30d49208-7119-4dd7-9caa-ed2019357721",
   "metadata": {},
   "source": [
    "## Bra\n",
    "Se representan por vectores fila y son los transpuestos conjugados de los kets"
   ]
  },
  {
   "cell_type": "code",
   "execution_count": 41,
   "id": "aec6ac6e-3882-433e-94c4-19d22f267054",
   "metadata": {},
   "outputs": [
    {
     "data": {
      "text/latex": [
       "$$\n",
       "\n",
       "\\begin{bmatrix}\n",
       "1 & 0  \\\\\n",
       " \\end{bmatrix}\n",
       "$$"
      ],
      "text/plain": [
       "<IPython.core.display.Latex object>"
      ]
     },
     "execution_count": 41,
     "metadata": {},
     "output_type": "execute_result"
    }
   ],
   "source": [
    "bra0 = [1, 0]\n",
    "array_to_latex(bra0)"
   ]
  },
  {
   "cell_type": "code",
   "execution_count": 42,
   "id": "808d8279-05cb-491b-ba94-44285ae74759",
   "metadata": {},
   "outputs": [
    {
     "data": {
      "text/latex": [
       "$$\n",
       "\n",
       "\\begin{bmatrix}\n",
       "0 & 1  \\\\\n",
       " \\end{bmatrix}\n",
       "$$"
      ],
      "text/plain": [
       "<IPython.core.display.Latex object>"
      ]
     },
     "execution_count": 42,
     "metadata": {},
     "output_type": "execute_result"
    }
   ],
   "source": [
    "bra1 = [0, 1]\n",
    "array_to_latex(bra1)"
   ]
  },
  {
   "cell_type": "markdown",
   "id": "66244fd4-8919-4e55-9ad3-a11ab6c75ae0",
   "metadata": {},
   "source": [
    "# Producto interno"
   ]
  },
  {
   "cell_type": "code",
   "execution_count": 43,
   "id": "38fd6b53-71cf-48d8-a98d-f7520df1aad9",
   "metadata": {},
   "outputs": [],
   "source": [
    "from qiskit.quantum_info.operators import Operator"
   ]
  },
  {
   "cell_type": "markdown",
   "id": "2fd457e3-fc34-4786-acc3-f57dec2c5a24",
   "metadata": {},
   "source": [
    "Se usa Operator() para crear un operador que permita multiplicar por ese vector"
   ]
  },
  {
   "cell_type": "code",
   "execution_count": 44,
   "id": "b02ac9e2-684d-47c3-8fdf-d2817fd908c2",
   "metadata": {},
   "outputs": [
    {
     "data": {
      "text/plain": [
       "Operator([[1.+0.j],\n",
       "          [0.+0.j]],\n",
       "         input_dims=(), output_dims=(2,))"
      ]
     },
     "execution_count": 44,
     "metadata": {},
     "output_type": "execute_result"
    }
   ],
   "source": [
    "Operator_ket0 = Operator(ket0)\n",
    "Operator_ket0"
   ]
  },
  {
   "cell_type": "code",
   "execution_count": 45,
   "id": "e2e065a6-f46e-4f34-afb3-23b18300cc7f",
   "metadata": {},
   "outputs": [
    {
     "data": {
      "text/latex": [
       "$$\n",
       "\n",
       "\\begin{bmatrix}\n",
       "1  \\\\\n",
       " 0  \\\\\n",
       " \\end{bmatrix}\n",
       "$$"
      ],
      "text/plain": [
       "<IPython.core.display.Latex object>"
      ]
     },
     "execution_count": 45,
     "metadata": {},
     "output_type": "execute_result"
    }
   ],
   "source": [
    "array_to_latex(Operator_ket0)"
   ]
  },
  {
   "cell_type": "code",
   "execution_count": 46,
   "id": "39d4cce7-6c3b-4da2-b024-2a5f48392662",
   "metadata": {},
   "outputs": [
    {
     "data": {
      "text/plain": [
       "Operator([0.+0.j, 1.+0.j],\n",
       "         input_dims=(), output_dims=(2,))"
      ]
     },
     "execution_count": 46,
     "metadata": {},
     "output_type": "execute_result"
    }
   ],
   "source": [
    "Operator_bra1 = Operator(bra1)\n",
    "Operator_bra1"
   ]
  },
  {
   "cell_type": "markdown",
   "id": "6ab1e10c-b59e-4f81-b9ca-066c64d9a4ef",
   "metadata": {},
   "source": [
    "El producto interno sigue el orden bra-ket\\\n",
    "Esto es:\n",
    "$$\\braket{1|0}$$\n",
    "y para multiplicarlos en qiskit, se debe respetar ese orden."
   ]
  },
  {
   "cell_type": "code",
   "execution_count": 47,
   "id": "e74af25e-7b41-47dc-ae74-c1be0df31c92",
   "metadata": {},
   "outputs": [
    {
     "data": {
      "text/plain": [
       "array([0.+0.j])"
      ]
     },
     "execution_count": 47,
     "metadata": {},
     "output_type": "execute_result"
    }
   ],
   "source": [
    "Dot_10 = np.dot(Operator_bra1, Operator_ket0)\n",
    "Dot_10"
   ]
  },
  {
   "cell_type": "code",
   "execution_count": 48,
   "id": "d3d39aae-1419-409a-a80a-212864a3d3d8",
   "metadata": {},
   "outputs": [
    {
     "data": {
      "text/latex": [
       "$$\n",
       "\n",
       "\\begin{bmatrix}\n",
       "0  \\\\\n",
       " \\end{bmatrix}\n",
       "$$"
      ],
      "text/plain": [
       "<IPython.core.display.Latex object>"
      ]
     },
     "execution_count": 48,
     "metadata": {},
     "output_type": "execute_result"
    }
   ],
   "source": [
    "array_to_latex(Dot_10)"
   ]
  },
  {
   "cell_type": "markdown",
   "id": "61090981-aa03-4775-87a7-1665dbfd3424",
   "metadata": {},
   "source": [
    "# Producto externo\n",
    "Se usan los mismos operadores creados previamente"
   ]
  },
  {
   "cell_type": "code",
   "execution_count": 49,
   "id": "101776ab-d9ad-45ec-9632-4db486d5df6d",
   "metadata": {},
   "outputs": [
    {
     "ename": "NameError",
     "evalue": "name 'Operator_bra0' is not defined",
     "output_type": "error",
     "traceback": [
      "\u001b[1;31m---------------------------------------------------------------------------\u001b[0m",
      "\u001b[1;31mNameError\u001b[0m                                 Traceback (most recent call last)",
      "Cell \u001b[1;32mIn[49], line 1\u001b[0m\n\u001b[1;32m----> 1\u001b[0m Producto_externo_00 \u001b[38;5;241m=\u001b[39m np\u001b[38;5;241m.\u001b[39mouter(Operator_ket0, \u001b[43mOperator_bra0\u001b[49m)\n\u001b[0;32m      2\u001b[0m Producto_externo_00\n",
      "\u001b[1;31mNameError\u001b[0m: name 'Operator_bra0' is not defined"
     ]
    }
   ],
   "source": [
    "Producto_externo_00 = np.outer(Operator_ket0, Operator_bra0)\n",
    "Producto_externo_00"
   ]
  },
  {
   "cell_type": "code",
   "execution_count": 50,
   "id": "1a5e00c2-1199-4822-8b3b-4f66bb37eba2",
   "metadata": {},
   "outputs": [
    {
     "ename": "NameError",
     "evalue": "name 'Producto_externo_00' is not defined",
     "output_type": "error",
     "traceback": [
      "\u001b[1;31m---------------------------------------------------------------------------\u001b[0m",
      "\u001b[1;31mNameError\u001b[0m                                 Traceback (most recent call last)",
      "Cell \u001b[1;32mIn[50], line 1\u001b[0m\n\u001b[1;32m----> 1\u001b[0m array_to_latex(\u001b[43mProducto_externo_00\u001b[49m)\n",
      "\u001b[1;31mNameError\u001b[0m: name 'Producto_externo_00' is not defined"
     ]
    }
   ],
   "source": [
    "array_to_latex(Producto_externo_00)"
   ]
  },
  {
   "cell_type": "markdown",
   "id": "b11ba3bd-9ddb-4d2d-ab1b-c41a7cb4b9f2",
   "metadata": {},
   "source": [
    "## Matriz unitaria"
   ]
  },
  {
   "cell_type": "code",
   "execution_count": null,
   "id": "c9370250-6126-489a-bcb5-5bacf019aad6",
   "metadata": {},
   "outputs": [],
   "source": [
    "Operator_ket1 = Operator(ket1)\n",
    "Operator_bra0 = Operator(bra0)"
   ]
  },
  {
   "cell_type": "code",
   "execution_count": null,
   "id": "c8ffe31b-e664-41cc-9f9a-542dd914d4f3",
   "metadata": {},
   "outputs": [],
   "source": [
    "Producto_externo_00 = np.outer(Operator_bra0, Operator_ket0)\n",
    "Producto_externo_11 = np.outer(Operator_bra1, Operator_ket1)"
   ]
  },
  {
   "cell_type": "code",
   "execution_count": null,
   "id": "941d6e72-989f-456a-8347-b1a7b34def83",
   "metadata": {},
   "outputs": [],
   "source": [
    "identity = Producto_externo_00 + Producto_externo_11\n",
    "array_to_latex(identity)"
   ]
  },
  {
   "cell_type": "markdown",
   "id": "9bf29a81-8b8f-4038-a9f5-4099199be6f5",
   "metadata": {},
   "source": [
    "# Esfera de Bloch\n",
    "Es una representación 3D del estado cuántico de un qubit"
   ]
  },
  {
   "cell_type": "code",
   "execution_count": null,
   "id": "16773cac-d8cf-4556-bb7b-3638046401be",
   "metadata": {},
   "outputs": [],
   "source": [
    "from qiskit.visualization import plot_bloch_vector"
   ]
  },
  {
   "cell_type": "code",
   "execution_count": null,
   "id": "087b47fe-df36-4c9e-a0e6-abd7e748822d",
   "metadata": {},
   "outputs": [],
   "source": [
    "plot_bloch_vector([0,0,1]) #Estado |0> en coordenadas (x,y,z)"
   ]
  },
  {
   "cell_type": "code",
   "execution_count": null,
   "id": "3d04bcb6-c520-47bd-bf15-fbfad2f7e7d0",
   "metadata": {},
   "outputs": [],
   "source": [
    "plot_bloch_vector([1,0,0], coord_type='spherical') #Estado |0> en esféricas (r,theta,phi)"
   ]
  },
  {
   "cell_type": "markdown",
   "id": "5de6b1c5-1ec1-49da-aea5-9fd436c3eb3f",
   "metadata": {},
   "source": [
    "Para un estado arbitrario usamos plot_bloch_multivector"
   ]
  },
  {
   "cell_type": "code",
   "execution_count": null,
   "id": "f1572760-a068-4de2-bd0d-ac446dee82d7",
   "metadata": {},
   "outputs": [],
   "source": [
    "from qiskit.visualization import plot_bloch_multivector"
   ]
  },
  {
   "cell_type": "code",
   "execution_count": null,
   "id": "26cd8e04-b96d-4d09-8ed5-0af565fbfb9b",
   "metadata": {},
   "outputs": [],
   "source": [
    "ket = Statevector([[(1+2j)/3],[-2/3]])\n",
    "plot_bloch_multivector(ket)"
   ]
  },
  {
   "cell_type": "markdown",
   "id": "a732e1a9-54a2-4b45-9cf2-ba259e5ca987",
   "metadata": {},
   "source": [
    "# Qubits entrelazados"
   ]
  },
  {
   "cell_type": "code",
   "execution_count": null,
   "id": "3b25286d-1822-4ae2-8438-4e3fc6678b91",
   "metadata": {},
   "outputs": [],
   "source": [
    "qubit = Statevector([np.sqrt(2),1,0,1j])\n",
    "qubit.draw('latex')"
   ]
  },
  {
   "cell_type": "code",
   "execution_count": null,
   "id": "d80fec8d-c5d1-4151-b57a-fbc8cb385285",
   "metadata": {},
   "outputs": [],
   "source": [
    "q1 = Statevector([1/np.sqrt(2), -1/np.sqrt(2)])\n",
    "q2 = Statevector([1/np.sqrt(2), -1j/np.sqrt(2)])\n",
    "q2.draw('latex')"
   ]
  },
  {
   "cell_type": "code",
   "execution_count": null,
   "id": "a191f6e4-7560-4dc6-ab41-45eee585850b",
   "metadata": {},
   "outputs": [],
   "source": [
    "q = q1.tensor(q2)\n",
    "q.draw('latex')"
   ]
  },
  {
   "cell_type": "code",
   "execution_count": null,
   "id": "0fa28611-0328-4bc2-9ca4-72e03ad72ed3",
   "metadata": {},
   "outputs": [],
   "source": [
    "q = q2.tensor(q1)\n",
    "q.draw('latex')"
   ]
  },
  {
   "cell_type": "code",
   "execution_count": null,
   "id": "183faaff-89bd-4b32-a5a6-d31b25f0687d",
   "metadata": {},
   "outputs": [],
   "source": [
    "plot_bloch_multivector(q)"
   ]
  },
  {
   "cell_type": "code",
   "execution_count": null,
   "id": "f5c3c494-7f60-467f-9eba-7f801706f0ae",
   "metadata": {},
   "outputs": [],
   "source": [
    "q.is_valid()"
   ]
  },
  {
   "cell_type": "markdown",
   "id": "30f37d24-adbf-4312-84b8-0dae48929cab",
   "metadata": {},
   "source": [
    "La probabilidad de las bases entrelazadas se puede calcular con el método .probalitie() o con el método .probabilities_dict()"
   ]
  },
  {
   "cell_type": "code",
   "execution_count": null,
   "id": "70e4802d-75aa-4565-b385-d1e5b271b3a3",
   "metadata": {},
   "outputs": [],
   "source": [
    "prob_q = q.probabilities()\n",
    "prob_q"
   ]
  },
  {
   "cell_type": "code",
   "execution_count": null,
   "id": "5ea09ba6-ecb6-4a2a-94f9-c4f1a839b5ea",
   "metadata": {},
   "outputs": [],
   "source": [
    "prob_for_qubit = q.probabilities_dict()\n",
    "prob_for_qubit"
   ]
  },
  {
   "cell_type": "markdown",
   "id": "06e8f123-3ca1-4bab-b90d-e32d4e606744",
   "metadata": {},
   "source": [
    "La probabilidad por cada qubit se calcula con el método .probabilities_dict([i]) donde $i$ es el qubit i-ésimo contando de derecha hasta izquierda empezando en $i=0$"
   ]
  },
  {
   "cell_type": "code",
   "execution_count": null,
   "id": "23355533-3fc9-4d0b-8285-b9f6e563363d",
   "metadata": {},
   "outputs": [],
   "source": [
    "prob_for_qubit2 = q.probabilities_dict([0])\n",
    "prob_for_qubit2"
   ]
  },
  {
   "cell_type": "markdown",
   "id": "f2105a80-aa3d-46fc-b604-2b6cff4459c0",
   "metadata": {},
   "source": [
    "# Operadores unitarios"
   ]
  },
  {
   "cell_type": "code",
   "execution_count": null,
   "id": "521e2588-1087-4931-968d-3dd4e4bef4d1",
   "metadata": {},
   "outputs": [],
   "source": [
    "from qiskit.quantum_info.operators import Operator, Pauli\n",
    "from qiskit.visualization import array_to_latex"
   ]
  },
  {
   "cell_type": "code",
   "execution_count": null,
   "id": "298bf1bc-b493-44aa-816f-9f1563d6c853",
   "metadata": {},
   "outputs": [],
   "source": []
  }
 ],
 "metadata": {
  "kernelspec": {
   "display_name": "Python 3 (ipykernel)",
   "language": "python",
   "name": "python3"
  },
  "language_info": {
   "codemirror_mode": {
    "name": "ipython",
    "version": 3
   },
   "file_extension": ".py",
   "mimetype": "text/x-python",
   "name": "python",
   "nbconvert_exporter": "python",
   "pygments_lexer": "ipython3",
   "version": "3.11.4"
  }
 },
 "nbformat": 4,
 "nbformat_minor": 5
}
